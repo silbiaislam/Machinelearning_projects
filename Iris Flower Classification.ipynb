{
 "cells": [
  {
   "cell_type": "markdown",
   "id": "e9fadcba",
   "metadata": {},
   "source": [
    "### Classifying iris flowers into three species based on their features\n",
    "\n",
    "This code builds a simple machine learning model to classify iris flowers into one of three species based on their features. \n",
    "\n",
    "The Iris dataset is a well-known dataset in machine learning, containing measurements of four features (sepal length, sepal width, petal length, and petal width) of iris flowers from three different species: Setosa, Versicolor, and Virginica.\n",
    "\n",
    "Here's a breakdown of what the code does:\n",
    "\n",
    "1. It imports necessary libraries, including scikit-learn (a popular machine learning library) for dataset loading, data splitting, model training, and accuracy evaluation.\n",
    "\n",
    "2. It loads the Iris dataset from scikit-learn using `load_iris()`.\n",
    "\n",
    "3. It splits the dataset into features (X) and target labels (y). `X` contains the feature measurements, and `y` contains the target species labels (0 for Setosa, 1 for Versicolor, and 2 for Virginica).\n",
    "\n",
    "4. It splits the data into training and testing sets using the `train_test_split` function. This is done to evaluate the model's performance on unseen data.\n",
    "\n",
    "5. It creates a machine learning model, in this case, a Random Forest Classifier, and trains the model using the training data.\n",
    "\n",
    "6. It uses the trained model to make predictions on the testing data.\n",
    "\n",
    "7. It calculates the accuracy of the model by comparing the predicted labels to the actual labels in the testing data and prints the accuracy score.\n",
    "\n",
    "The primary goal of this code is to demonstrate a basic example of a machine learning classification task."
   ]
  },
  {
   "cell_type": "code",
   "execution_count": 2,
   "id": "1d7deab1",
   "metadata": {},
   "outputs": [],
   "source": [
    "from sklearn import datasets\n",
    "from sklearn.model_selection import train_test_split\n",
    "from sklearn.ensemble import RandomForestClassifier\n",
    "from sklearn.metrics import accuracy_score"
   ]
  },
  {
   "cell_type": "code",
   "execution_count": 3,
   "id": "8e1f98e2",
   "metadata": {},
   "outputs": [],
   "source": [
    "iris = datasets.load_iris()"
   ]
  },
  {
   "cell_type": "markdown",
   "id": "b4d3c633",
   "metadata": {},
   "source": [
    "###### The Iris dataset is a well-known dataset in machine learning and statistics. It was introduced by the British biologist and statistician Ronald A. Fisher in 1936 and has become a common dataset for teaching and practicing various machine learning and data analysis techniques.\n",
    "\n",
    "*The Iris dataset consists of the following components:*\n",
    "\n",
    "1. **Features**:\n",
    "   - Sepal Length (in centimeters)\n",
    "   - Sepal Width (in centimeters)\n",
    "   - Petal Length (in centimeters)\n",
    "   - Petal Width (in centimeters)\n",
    "\n",
    "2. **Target**:\n",
    "   - Species\n",
    "     - Setosa\n",
    "     - Versicolor\n",
    "     - Virginica\n",
    "\n",
    "The dataset contains a total of 150 samples (iris flowers), with each species having 50 samples. The features represent measurements of the sepal and petal of each iris flower, and the target represents the species of the iris flower."
   ]
  },
  {
   "cell_type": "code",
   "execution_count": 6,
   "id": "45ac7f49",
   "metadata": {
    "scrolled": true
   },
   "outputs": [
    {
     "name": "stdout",
     "output_type": "stream",
     "text": [
      "Feature data (first 10 rows):\n",
      "[[5.1 3.5 1.4 0.2]\n",
      " [4.9 3.  1.4 0.2]\n",
      " [4.7 3.2 1.3 0.2]\n",
      " [4.6 3.1 1.5 0.2]\n",
      " [5.  3.6 1.4 0.2]\n",
      " [5.4 3.9 1.7 0.4]\n",
      " [4.6 3.4 1.4 0.3]\n",
      " [5.  3.4 1.5 0.2]\n",
      " [4.4 2.9 1.4 0.2]\n",
      " [4.9 3.1 1.5 0.1]]\n",
      "Target labels (first 10 elements):\n",
      "[0 0 0 0 0 0 0 0 0 0]\n"
     ]
    }
   ],
   "source": [
    "from sklearn.datasets import load_iris\n",
    "\n",
    "iris = load_iris()\n",
    "\n",
    "# Accessing the first 10 rows of the feature data\n",
    "feature_data = iris.data[:10]\n",
    "\n",
    "# Accessing the corresponding target labels\n",
    "target_labels = iris.target[:10]\n",
    "\n",
    "print(\"Feature data (first 10 rows):\")\n",
    "print(feature_data)\n",
    "\n",
    "print(\"Target labels (first 10 elements):\")\n",
    "print(target_labels)\n"
   ]
  },
  {
   "cell_type": "code",
   "execution_count": 7,
   "id": "ee77e664",
   "metadata": {},
   "outputs": [],
   "source": [
    "X, y = iris.data, iris.target"
   ]
  },
  {
   "cell_type": "code",
   "execution_count": 8,
   "id": "56bd4f5b",
   "metadata": {},
   "outputs": [],
   "source": [
    "X_train, X_test, y_train, y_test = train_test_split(X, y, test_size=0.2, random_state=42)"
   ]
  },
  {
   "cell_type": "code",
   "execution_count": 9,
   "id": "ef373a5d",
   "metadata": {
    "scrolled": false
   },
   "outputs": [
    {
     "data": {
      "text/html": [
       "<style>#sk-container-id-1 {color: black;background-color: white;}#sk-container-id-1 pre{padding: 0;}#sk-container-id-1 div.sk-toggleable {background-color: white;}#sk-container-id-1 label.sk-toggleable__label {cursor: pointer;display: block;width: 100%;margin-bottom: 0;padding: 0.3em;box-sizing: border-box;text-align: center;}#sk-container-id-1 label.sk-toggleable__label-arrow:before {content: \"▸\";float: left;margin-right: 0.25em;color: #696969;}#sk-container-id-1 label.sk-toggleable__label-arrow:hover:before {color: black;}#sk-container-id-1 div.sk-estimator:hover label.sk-toggleable__label-arrow:before {color: black;}#sk-container-id-1 div.sk-toggleable__content {max-height: 0;max-width: 0;overflow: hidden;text-align: left;background-color: #f0f8ff;}#sk-container-id-1 div.sk-toggleable__content pre {margin: 0.2em;color: black;border-radius: 0.25em;background-color: #f0f8ff;}#sk-container-id-1 input.sk-toggleable__control:checked~div.sk-toggleable__content {max-height: 200px;max-width: 100%;overflow: auto;}#sk-container-id-1 input.sk-toggleable__control:checked~label.sk-toggleable__label-arrow:before {content: \"▾\";}#sk-container-id-1 div.sk-estimator input.sk-toggleable__control:checked~label.sk-toggleable__label {background-color: #d4ebff;}#sk-container-id-1 div.sk-label input.sk-toggleable__control:checked~label.sk-toggleable__label {background-color: #d4ebff;}#sk-container-id-1 input.sk-hidden--visually {border: 0;clip: rect(1px 1px 1px 1px);clip: rect(1px, 1px, 1px, 1px);height: 1px;margin: -1px;overflow: hidden;padding: 0;position: absolute;width: 1px;}#sk-container-id-1 div.sk-estimator {font-family: monospace;background-color: #f0f8ff;border: 1px dotted black;border-radius: 0.25em;box-sizing: border-box;margin-bottom: 0.5em;}#sk-container-id-1 div.sk-estimator:hover {background-color: #d4ebff;}#sk-container-id-1 div.sk-parallel-item::after {content: \"\";width: 100%;border-bottom: 1px solid gray;flex-grow: 1;}#sk-container-id-1 div.sk-label:hover label.sk-toggleable__label {background-color: #d4ebff;}#sk-container-id-1 div.sk-serial::before {content: \"\";position: absolute;border-left: 1px solid gray;box-sizing: border-box;top: 0;bottom: 0;left: 50%;z-index: 0;}#sk-container-id-1 div.sk-serial {display: flex;flex-direction: column;align-items: center;background-color: white;padding-right: 0.2em;padding-left: 0.2em;position: relative;}#sk-container-id-1 div.sk-item {position: relative;z-index: 1;}#sk-container-id-1 div.sk-parallel {display: flex;align-items: stretch;justify-content: center;background-color: white;position: relative;}#sk-container-id-1 div.sk-item::before, #sk-container-id-1 div.sk-parallel-item::before {content: \"\";position: absolute;border-left: 1px solid gray;box-sizing: border-box;top: 0;bottom: 0;left: 50%;z-index: -1;}#sk-container-id-1 div.sk-parallel-item {display: flex;flex-direction: column;z-index: 1;position: relative;background-color: white;}#sk-container-id-1 div.sk-parallel-item:first-child::after {align-self: flex-end;width: 50%;}#sk-container-id-1 div.sk-parallel-item:last-child::after {align-self: flex-start;width: 50%;}#sk-container-id-1 div.sk-parallel-item:only-child::after {width: 0;}#sk-container-id-1 div.sk-dashed-wrapped {border: 1px dashed gray;margin: 0 0.4em 0.5em 0.4em;box-sizing: border-box;padding-bottom: 0.4em;background-color: white;}#sk-container-id-1 div.sk-label label {font-family: monospace;font-weight: bold;display: inline-block;line-height: 1.2em;}#sk-container-id-1 div.sk-label-container {text-align: center;}#sk-container-id-1 div.sk-container {/* jupyter's `normalize.less` sets `[hidden] { display: none; }` but bootstrap.min.css set `[hidden] { display: none !important; }` so we also need the `!important` here to be able to override the default hidden behavior on the sphinx rendered scikit-learn.org. See: https://github.com/scikit-learn/scikit-learn/issues/21755 */display: inline-block !important;position: relative;}#sk-container-id-1 div.sk-text-repr-fallback {display: none;}</style><div id=\"sk-container-id-1\" class=\"sk-top-container\"><div class=\"sk-text-repr-fallback\"><pre>RandomForestClassifier()</pre><b>In a Jupyter environment, please rerun this cell to show the HTML representation or trust the notebook. <br />On GitHub, the HTML representation is unable to render, please try loading this page with nbviewer.org.</b></div><div class=\"sk-container\" hidden><div class=\"sk-item\"><div class=\"sk-estimator sk-toggleable\"><input class=\"sk-toggleable__control sk-hidden--visually\" id=\"sk-estimator-id-1\" type=\"checkbox\" checked><label for=\"sk-estimator-id-1\" class=\"sk-toggleable__label sk-toggleable__label-arrow\">RandomForestClassifier</label><div class=\"sk-toggleable__content\"><pre>RandomForestClassifier()</pre></div></div></div></div></div>"
      ],
      "text/plain": [
       "RandomForestClassifier()"
      ]
     },
     "execution_count": 9,
     "metadata": {},
     "output_type": "execute_result"
    }
   ],
   "source": [
    "model = RandomForestClassifier()\n",
    "model.fit(X_train, y_train)"
   ]
  },
  {
   "cell_type": "markdown",
   "id": "c74c6f51",
   "metadata": {},
   "source": [
    "*Feature Importances: the feature importances calculated by the Random Forest model. Feature importances show which features has the most impact on the model's decision-making.*"
   ]
  },
  {
   "cell_type": "code",
   "execution_count": 11,
   "id": "4b70929b",
   "metadata": {},
   "outputs": [
    {
     "name": "stdout",
     "output_type": "stream",
     "text": [
      "Feature Importances:\n",
      "sepal_length: 0.080221304519472\n",
      "sepal_width: 0.03229055951394592\n",
      "petal_length: 0.43326923749471485\n",
      "petal_width: 0.4542188984718673\n"
     ]
    }
   ],
   "source": [
    "# List of feature names \n",
    "feature_names = [\"sepal_length\", \"sepal_width\", \"petal_length\", \"petal_width\"]\n",
    "\n",
    "feature_importances = model.feature_importances_\n",
    "print(\"Feature Importances:\")\n",
    "for feature, importance in zip(feature_names, feature_importances):\n",
    "    print(f\"{feature}: {importance}\")\n"
   ]
  },
  {
   "cell_type": "markdown",
   "id": "91c5fef0",
   "metadata": {},
   "source": [
    "*Number of Estimators (Trees): the number of decision trees in the Random Forest ensemble.\n",
    "Displaying the number of estimators (trees) in a Random Forest ensemble helps in understanding the model's complexity, performance, and generalization capabilities. It allows to optimize the trade-off between model complexity and resource utilization and experiment with different ensemble sizes to find the best balance for the specific machine learning task.*"
   ]
  },
  {
   "cell_type": "code",
   "execution_count": 12,
   "id": "ee794609",
   "metadata": {},
   "outputs": [
    {
     "name": "stdout",
     "output_type": "stream",
     "text": [
      "Number of Estimators (Trees): 100\n"
     ]
    }
   ],
   "source": [
    "n_estimators = model.n_estimators\n",
    "print(f\"Number of Estimators (Trees): {n_estimators}\")"
   ]
  },
  {
   "cell_type": "markdown",
   "id": "22f3653a",
   "metadata": {},
   "source": [
    "*Model Accuracy: the accuracy of the model on your test data*"
   ]
  },
  {
   "cell_type": "code",
   "execution_count": 13,
   "id": "df4843b3",
   "metadata": {},
   "outputs": [
    {
     "name": "stdout",
     "output_type": "stream",
     "text": [
      "Model Accuracy: 1.0\n"
     ]
    }
   ],
   "source": [
    "accuracy = model.score(X_test, y_test)\n",
    "print(f\"Model Accuracy: {accuracy}\")"
   ]
  },
  {
   "cell_type": "markdown",
   "id": "0a8af2ca",
   "metadata": {},
   "source": [
    "*Model Parameters: the parameters that were used to initialize the model. This includes parameters like n_estimators, max_depth, and more*"
   ]
  },
  {
   "cell_type": "code",
   "execution_count": 14,
   "id": "cd98b227",
   "metadata": {},
   "outputs": [
    {
     "name": "stdout",
     "output_type": "stream",
     "text": [
      "Model Parameters:\n",
      "bootstrap: True\n",
      "ccp_alpha: 0.0\n",
      "class_weight: None\n",
      "criterion: gini\n",
      "max_depth: None\n",
      "max_features: sqrt\n",
      "max_leaf_nodes: None\n",
      "max_samples: None\n",
      "min_impurity_decrease: 0.0\n",
      "min_samples_leaf: 1\n",
      "min_samples_split: 2\n",
      "min_weight_fraction_leaf: 0.0\n",
      "n_estimators: 100\n",
      "n_jobs: None\n",
      "oob_score: False\n",
      "random_state: None\n",
      "verbose: 0\n",
      "warm_start: False\n"
     ]
    }
   ],
   "source": [
    "model_parameters = model.get_params()\n",
    "print(\"Model Parameters:\")\n",
    "for param, value in model_parameters.items():\n",
    "    print(f\"{param}: {value}\")"
   ]
  },
  {
   "cell_type": "code",
   "execution_count": 15,
   "id": "408c6cb2",
   "metadata": {},
   "outputs": [],
   "source": [
    "predictions = model.predict(X_test)"
   ]
  },
  {
   "cell_type": "code",
   "execution_count": 16,
   "id": "931fd623",
   "metadata": {},
   "outputs": [
    {
     "name": "stdout",
     "output_type": "stream",
     "text": [
      "Accuracy: 1.0\n"
     ]
    }
   ],
   "source": [
    "accuracy = accuracy_score(y_test, predictions)\n",
    "print(f'Accuracy: {accuracy}')"
   ]
  }
 ],
 "metadata": {
  "kernelspec": {
   "display_name": "Python 3 (ipykernel)",
   "language": "python",
   "name": "python3"
  },
  "language_info": {
   "codemirror_mode": {
    "name": "ipython",
    "version": 3
   },
   "file_extension": ".py",
   "mimetype": "text/x-python",
   "name": "python",
   "nbconvert_exporter": "python",
   "pygments_lexer": "ipython3",
   "version": "3.10.9"
  }
 },
 "nbformat": 4,
 "nbformat_minor": 5
}
