{
 "cells": [
  {
   "cell_type": "markdown",
   "id": "ea662fb6",
   "metadata": {},
   "source": [
    "#### A Convolutional Neural Network (CNN) to recognize handwritten digits from the MNIST dataset. The MNIST dataset is readily available in many deep learning libraries, including TensorFlow."
   ]
  },
  {
   "cell_type": "markdown",
   "id": "4706a8b6",
   "metadata": {},
   "source": [
    "**Steps:**\n",
    "\n",
    "1. Data Loading: Importing the MNIST dataset from a deep learning library like TensorFlow/Keras. This dataset includes images of handwritten digits (0-9) for both training and testing.\n",
    "\n",
    "2. Data Preprocessing: Preprocessing the images, which are grayscale, by normalizing the pixel values to a common scale (e.g., [0, 1]).\n",
    "\n",
    "3. Model Building: Designing a CNN model for digit recognition. The model should have convolutional layers, pooling layers, and fully connected layers.\n",
    "\n",
    "4. Model Compilation: Compiling the model with an appropriate optimizer and loss function. For MNIST, categorical cross-entropy is often used.\n",
    "\n",
    "5. Model Training: Training the CNN model on the MNIST training dataset.\n",
    "\n",
    "6. Model Evaluation: Evaluating the model's performance on the MNIST testing dataset. Calculating accuracy and visualizing the results.\n",
    "\n",
    "7. Inference: Utilizing the trained model to recognize and classify handwritten digits from new input."
   ]
  },
  {
   "cell_type": "code",
   "execution_count": 3,
   "id": "c02a84d7",
   "metadata": {},
   "outputs": [],
   "source": [
    "import tensorflow as tf\n",
    "from tensorflow import keras"
   ]
  },
  {
   "cell_type": "code",
   "execution_count": 4,
   "id": "a5b56474",
   "metadata": {},
   "outputs": [],
   "source": [
    "# Loading the MNIST dataset\n",
    "mnist = keras.datasets.mnist\n",
    "(train_images, train_labels), (test_images, test_labels) = mnist.load_data()"
   ]
  },
  {
   "cell_type": "code",
   "execution_count": 6,
   "id": "5be0b2ee",
   "metadata": {},
   "outputs": [],
   "source": [
    "# Preprocess the data\n",
    "\n",
    "# Here, the code scales the pixel values of the images in the MNIST dataset to a common range \n",
    "# between 0 and 1 by dividing each pixel value by 255.0, a process known as data normalization. Normalization is \n",
    "# performed to ensure uniformity in the data's scale, which aids in faster convergence and more stable training \n",
    "# when using deep learning models like neural networks, without altering the inherent information in the images.\n",
    "\n",
    "train_images = train_images / 255.0\n",
    "test_images = test_images / 255.0"
   ]
  },
  {
   "cell_type": "code",
   "execution_count": 7,
   "id": "0c17a96b",
   "metadata": {},
   "outputs": [],
   "source": [
    "# Defining the CNN model\n",
    "\n",
    "# Here, a Convolutional Neural Network (CNN) model is defined using TensorFlow/Keras. \n",
    "# The model consists of sequential layers: a convolutional layer with 32 filters and 'relu' activation, \n",
    "# a max-pooling layer for downsampling, a flattening layer to convert 2D feature maps into a 1D vector, \n",
    "# a fully connected layer with 128 neurons and 'relu' activation, and an output layer with 10 neurons and\n",
    "# 'softmax' activation, representing a 10-class classification model for recognizing handwritten digits from the MNIST dataset.\n",
    "\n",
    "\n",
    "model = keras.Sequential([\n",
    "    keras.layers.Conv2D(32, (3, 3), activation='relu', input_shape=(28, 28, 1)),\n",
    "    keras.layers.MaxPooling2D((2, 2)),\n",
    "    keras.layers.Flatten(),\n",
    "    keras.layers.Dense(128, activation='relu'),\n",
    "    keras.layers.Dense(10, activation='softmax')\n",
    "])"
   ]
  },
  {
   "cell_type": "code",
   "execution_count": 8,
   "id": "6967b610",
   "metadata": {},
   "outputs": [],
   "source": [
    "# Compiling the model\n",
    "model.compile(optimizer='adam', loss='sparse_categorical_crossentropy', metrics=['accuracy'])"
   ]
  },
  {
   "cell_type": "code",
   "execution_count": 9,
   "id": "cb6991be",
   "metadata": {},
   "outputs": [
    {
     "name": "stdout",
     "output_type": "stream",
     "text": [
      "Epoch 1/5\n",
      "1875/1875 [==============================] - 37s 19ms/step - loss: 0.7042 - accuracy: 0.7963\n",
      "Epoch 2/5\n",
      "1875/1875 [==============================] - 37s 20ms/step - loss: 0.3010 - accuracy: 0.9105\n",
      "Epoch 3/5\n",
      "1875/1875 [==============================] - 37s 20ms/step - loss: 0.2446 - accuracy: 0.9266\n",
      "Epoch 4/5\n",
      "1875/1875 [==============================] - 36s 19ms/step - loss: 0.2038 - accuracy: 0.9391\n",
      "Epoch 5/5\n",
      "1875/1875 [==============================] - 37s 20ms/step - loss: 0.1738 - accuracy: 0.9473\n"
     ]
    },
    {
     "data": {
      "text/plain": [
       "<keras.src.callbacks.History at 0x200d49d9ea0>"
      ]
     },
     "execution_count": 9,
     "metadata": {},
     "output_type": "execute_result"
    }
   ],
   "source": [
    "# Training the model\n",
    "model.fit(train_images, train_labels, epochs=5)"
   ]
  },
  {
   "cell_type": "code",
   "execution_count": 10,
   "id": "336b7f21",
   "metadata": {},
   "outputs": [
    {
     "name": "stdout",
     "output_type": "stream",
     "text": [
      "313/313 [==============================] - 2s 7ms/step - loss: 0.1592 - accuracy: 0.9503\n",
      "Test accuracy: 0.9502999782562256\n"
     ]
    }
   ],
   "source": [
    "# Evaluating the model\n",
    "test_loss, test_acc = model.evaluate(test_images, test_labels)\n",
    "print(f'Test accuracy: {test_acc}')"
   ]
  },
  {
   "cell_type": "code",
   "execution_count": 11,
   "id": "9f4f1f9c",
   "metadata": {},
   "outputs": [
    {
     "name": "stdout",
     "output_type": "stream",
     "text": [
      "313/313 [==============================] - 2s 7ms/step\n"
     ]
    }
   ],
   "source": [
    "# Making predictions\n",
    "predictions = model.predict(test_images)"
   ]
  },
  {
   "cell_type": "code",
   "execution_count": null,
   "id": "be49f51d",
   "metadata": {},
   "outputs": [],
   "source": []
  }
 ],
 "metadata": {
  "kernelspec": {
   "display_name": "Python 3 (ipykernel)",
   "language": "python",
   "name": "python3"
  },
  "language_info": {
   "codemirror_mode": {
    "name": "ipython",
    "version": 3
   },
   "file_extension": ".py",
   "mimetype": "text/x-python",
   "name": "python",
   "nbconvert_exporter": "python",
   "pygments_lexer": "ipython3",
   "version": "3.10.9"
  }
 },
 "nbformat": 4,
 "nbformat_minor": 5
}
